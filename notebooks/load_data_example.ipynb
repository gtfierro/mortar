{
 "cells": [
  {
   "cell_type": "code",
   "execution_count": 1,
   "metadata": {},
   "outputs": [],
   "source": [
    "import pymortar\n",
    "import glob\n",
    "URL = \"http://mortar_mortar-server_1:5001\"\n",
    "# connect client to Mortar frontend server\n",
    "APIKEY = \"383a4a16-12e1-44ed-bb02-43ecd9bef903\" # this will probably need to be regenerated\n",
    "c = pymortar.Client(URL, apikey=APIKEY)"
   ]
  },
  {
   "cell_type": "markdown",
   "metadata": {},
   "source": [
    "## Loading Triples/Metadata\n",
    "\n",
    "Only supports loading from Turtle files for now"
   ]
  },
  {
   "cell_type": "code",
   "execution_count": 2,
   "metadata": {},
   "outputs": [],
   "source": [
    "# all data/metadata in mortar is grouped by a site name\n",
    "sitename = \"bldg1\"\n",
    "\n",
    "# load in Brick model into the bldg1 'site'\n",
    "c.load_triple_file(sitename, \"sample-data/bldg1/bldg1.ttl\")\n",
    "\n",
    "# load in Brick ontology definitions into the same graph\n",
    "c.load_triple_file(sitename, \"Brick.ttl\")"
   ]
  },
  {
   "cell_type": "markdown",
   "metadata": {},
   "source": [
    "## Bulk Loading\n",
    "\n",
    "CSV schema is as follows:\n",
    "\n",
    "- `time`: RFC3339-encoded timestamp\n",
    "- `value`: value of the stream at the given time\n",
    "- `id`: the Brick URI of the data stream\n",
    "- `type`: the Brick type of the data stream\n",
    "- `label`: the name of the data stream (a label or 'name', not the Brick URI)\n",
    "- `site`: the name of the graph under which the data should be organized\n",
    "\n",
    "```\n",
    "time,id,value,type,label,site\n",
    "2015-01-01T00:00:00Z,http:/buildsys.org/ontologies/BLDG1#BLDG1.AHU.AHU01A.CCV,0.0,https:/brickschema.org/schema/Brick#Cooling_Valve_Command,BLDG1.AHU.AHU01A.CCV,bldg1\n",
    "```"
   ]
  },
  {
   "cell_type": "code",
   "execution_count": 3,
   "metadata": {},
   "outputs": [],
   "source": [
    "# load in CSV data; each row already knows it is for the 'bldg1' site\n",
    "# 1 CSV file per sensor, 2 days of data\n",
    "for datafile in glob.glob(\"sample-data/bldg1/*.csv\"):\n",
    "    c.load_csv(datafile)"
   ]
  },
  {
   "cell_type": "markdown",
   "metadata": {},
   "source": [
    "## Streaming / Incremental Updates "
   ]
  },
  {
   "cell_type": "code",
   "execution_count": 4,
   "metadata": {},
   "outputs": [
    {
     "data": {
      "text/plain": [
       "<Response [200]>"
      ]
     },
     "execution_count": 4,
     "metadata": {},
     "output_type": "execute_result"
    }
   ],
   "source": [
    "import requests\n",
    "\n",
    "# register a sensor stream with relevant metadata\n",
    "stream_description = {\n",
    "    \"SourceName\": \"bldg2\",\n",
    "    \"Units\": \"degF\",\n",
    "    \"Name\": \"mysensortest\",\n",
    "    \"BrickURI\": \"http://example.com#mysensortest\", # optional\n",
    "    \"BrickClass\": \"https://brickschema.org/schema/Brick#Air_Temperature_Sensor\", # optional\n",
    "}\n",
    "requests.post(f\"{URL}/register_stream?apikey={APIKEY}\", json=stream_description)"
   ]
  },
  {
   "cell_type": "code",
   "execution_count": 5,
   "metadata": {},
   "outputs": [
    {
     "data": {
      "text/plain": [
       "<Response [200]>"
      ]
     },
     "execution_count": 5,
     "metadata": {},
     "output_type": "execute_result"
    }
   ],
   "source": [
    "# will register the stream if it doesn't already exist\n",
    "data = {\n",
    "    \"SourceName\": \"bldg2\",\n",
    "    \"Name\": \"mysensortest\",\n",
    "    \"Readings\": [\n",
    "        [\"2015-01-01T00:00:00Z\", 72.0],\n",
    "        [\"2015-01-01T00:10:00Z\", 72.3],\n",
    "    ]\n",
    "}\n",
    "requests.post(f\"{URL}/insert/data?apikey={APIKEY}\", json=data)"
   ]
  },
  {
   "cell_type": "code",
   "execution_count": 6,
   "metadata": {},
   "outputs": [
    {
     "data": {
      "text/html": [
       "<div>\n",
       "<style scoped>\n",
       "    .dataframe tbody tr th:only-of-type {\n",
       "        vertical-align: middle;\n",
       "    }\n",
       "\n",
       "    .dataframe tbody tr th {\n",
       "        vertical-align: top;\n",
       "    }\n",
       "\n",
       "    .dataframe thead th {\n",
       "        text-align: right;\n",
       "    }\n",
       "</style>\n",
       "<table border=\"1\" class=\"dataframe\">\n",
       "  <thead>\n",
       "    <tr style=\"text-align: right;\">\n",
       "      <th></th>\n",
       "      <th>time</th>\n",
       "      <th>value</th>\n",
       "      <th>id</th>\n",
       "    </tr>\n",
       "  </thead>\n",
       "  <tbody>\n",
       "    <tr>\n",
       "      <th>0</th>\n",
       "      <td>2015-01-01 00:20:00+00:00</td>\n",
       "      <td>72.4</td>\n",
       "      <td>http://example.com#myothersensor</td>\n",
       "    </tr>\n",
       "    <tr>\n",
       "      <th>1</th>\n",
       "      <td>2015-01-01 00:30:00+00:00</td>\n",
       "      <td>73.0</td>\n",
       "      <td>http://example.com#myothersensor</td>\n",
       "    </tr>\n",
       "  </tbody>\n",
       "</table>\n",
       "</div>"
      ],
      "text/plain": [
       "                       time  value                                id\n",
       "0 2015-01-01 00:20:00+00:00   72.4  http://example.com#myothersensor\n",
       "1 2015-01-01 00:30:00+00:00   73.0  http://example.com#myothersensor"
      ]
     },
     "execution_count": 6,
     "metadata": {},
     "output_type": "execute_result"
    }
   ],
   "source": [
    "# can do the above through the pymortar library\n",
    "s = c.new_stream(\"bldg2\", \"myothersensor\", \"degF\", brick_uri=\"http://example.com#myothersensor\", brick_class=pymortar.BRICK.Air_Temperature_Sensor)\n",
    "s.add_data([[\"2015-01-01T00:20:00Z\", 72.4], [\"2015-01-01T00:30:00Z\", 73]])\n",
    "s.get_data().data"
   ]
  },
  {
   "cell_type": "markdown",
   "metadata": {},
   "source": [
    "## Querying for Sensors"
   ]
  },
  {
   "cell_type": "code",
   "execution_count": 7,
   "metadata": {},
   "outputs": [
    {
     "data": {
      "text/plain": [
       "             temp\n",
       "bldg1         833\n",
       "bldg2           2\n",
       "test_source     0"
      ]
     },
     "execution_count": 7,
     "metadata": {},
     "output_type": "execute_result"
    }
   ],
   "source": [
    "c.qualify({\"temp\": \"SELECT * WHERE { ?x a brick:Temperature_Sensor }\"})\n",
    "# 'bldg2' has no results because the Brick definition hasn't been loaded in. We'd have to run the following:\n",
    "# c.qualify({\"temp\": \"SELECT * WHERE { ?x a brick:Temperature_Sensor }\"})"
   ]
  },
  {
   "cell_type": "code",
   "execution_count": 8,
   "metadata": {},
   "outputs": [],
   "source": [
    "c.load_triple_file('bldg2', \"Brick.ttl\")\n",
    "# wait a bit for the reasoning to occur, then we can query for Temperature Sensors"
   ]
  },
  {
   "cell_type": "code",
   "execution_count": 9,
   "metadata": {},
   "outputs": [
    {
     "data": {
      "text/plain": [
       "             temp\n",
       "bldg1         833\n",
       "bldg2           2\n",
       "test_source     0"
      ]
     },
     "execution_count": 9,
     "metadata": {},
     "output_type": "execute_result"
    }
   ],
   "source": [
    "c.qualify({\"temp\": \"SELECT * WHERE { ?x a brick:Temperature_Sensor }\"})"
   ]
  },
  {
   "cell_type": "code",
   "execution_count": null,
   "metadata": {},
   "outputs": [],
   "source": []
  },
  {
   "cell_type": "code",
   "execution_count": null,
   "metadata": {},
   "outputs": [],
   "source": []
  }
 ],
 "metadata": {
  "kernelspec": {
   "display_name": "Python 3",
   "language": "python",
   "name": "python3"
  },
  "language_info": {
   "codemirror_mode": {
    "name": "ipython",
    "version": 3
   },
   "file_extension": ".py",
   "mimetype": "text/x-python",
   "name": "python",
   "nbconvert_exporter": "python",
   "pygments_lexer": "ipython3",
   "version": "3.7.4"
  }
 },
 "nbformat": 4,
 "nbformat_minor": 4
}

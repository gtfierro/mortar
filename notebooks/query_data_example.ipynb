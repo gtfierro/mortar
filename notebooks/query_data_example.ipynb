{
 "cells": [
  {
   "cell_type": "code",
   "execution_count": null,
   "metadata": {},
   "outputs": [],
   "source": [
    "import pymortar\n",
    "import glob\n",
    "URL = \"http://mortar2_mortar-server_1:5001\"\n",
    "# connect client to Mortar frontend server\n",
    "c = pymortar.Client(URL)"
   ]
  },
  {
   "cell_type": "code",
   "execution_count": null,
   "metadata": {},
   "outputs": [],
   "source": [
    "# query AHU, supply air temp sensor, and downstream zone\n",
    "query1 = \"\"\"SELECT ?ahu ?sat ?zone WHERE {\n",
    "    ?ahu a brick:AHU .\n",
    "    ?ahu brick:hasPart?/brick:hasPoint ?sat .\n",
    "    ?sat a brick:Supply_Air_Temperature_Sensor .\n",
    "    ?ahu brick:feeds+ ?zone .\n",
    "    ?zone a brick:HVAC_Zone\n",
    "}\"\"\"\n",
    "\n",
    "# damper position commands in VAVs\n",
    "query2 = \"\"\"SELECT ?vav ?cmd WHERE {\n",
    "    ?vav   a  brick:VAV .\n",
    "    ?vav   brick:hasPart?/brick:hasPoint ?cmd .\n",
    "    ?cmd a brick:Damper_Position_Command\n",
    "}\"\"\"\n",
    "\n",
    "# all air temperature sensors\n",
    "query3 = \"\"\"SELECT ?ats WHERE {\n",
    "    ?ats  a  brick:Air_Temperature_Sensor .\n",
    "}\"\"\""
   ]
  },
  {
   "cell_type": "markdown",
   "metadata": {},
   "source": [
    "## Querying (Brick) Metadata"
   ]
  },
  {
   "cell_type": "code",
   "execution_count": null,
   "metadata": {},
   "outputs": [],
   "source": [
    "# execute query against all sites\n",
    "# c.sparql(query)\n",
    "\n",
    "# or against a list of sites\n",
    "c.sparql(query1, sites=['bldg1'])"
   ]
  },
  {
   "cell_type": "code",
   "execution_count": null,
   "metadata": {},
   "outputs": [],
   "source": [
    "# get a summary of which sites return results for a set of queries\n",
    "c.qualify([query1, query2, query3])"
   ]
  },
  {
   "cell_type": "code",
   "execution_count": null,
   "metadata": {},
   "outputs": [],
   "source": [
    "# name the queries (optional)\n",
    "c.qualify({\"damper_cmd\": query2, \"ahu sat\": query1, \"temp sensors\": query3})"
   ]
  },
  {
   "cell_type": "markdown",
   "metadata": {},
   "source": [
    "## Querying Timeseries Data"
   ]
  },
  {
   "cell_type": "code",
   "execution_count": null,
   "metadata": {},
   "outputs": [],
   "source": [
    "# get SPARQL query results, stream metadata data tables as separate objects\n",
    "res = c.data(query3)"
   ]
  },
  {
   "cell_type": "code",
   "execution_count": null,
   "metadata": {},
   "outputs": [],
   "source": [
    "# sparql query results\n",
    "res.metadata"
   ]
  },
  {
   "cell_type": "code",
   "execution_count": null,
   "metadata": {},
   "outputs": [],
   "source": [
    "# stream metadata\n",
    "res.streams"
   ]
  },
  {
   "cell_type": "code",
   "execution_count": null,
   "metadata": {},
   "outputs": [],
   "source": [
    "# actual timeseries data\n",
    "res.data"
   ]
  },
  {
   "cell_type": "code",
   "execution_count": null,
   "metadata": {},
   "outputs": [],
   "source": []
  }
 ],
 "metadata": {
  "kernelspec": {
   "display_name": "Python 3",
   "language": "python",
   "name": "python3"
  },
  "language_info": {
   "codemirror_mode": {
    "name": "ipython",
    "version": 3
   },
   "file_extension": ".py",
   "mimetype": "text/x-python",
   "name": "python",
   "nbconvert_exporter": "python",
   "pygments_lexer": "ipython3",
   "version": "3.7.4"
  }
 },
 "nbformat": 4,
 "nbformat_minor": 4
}
